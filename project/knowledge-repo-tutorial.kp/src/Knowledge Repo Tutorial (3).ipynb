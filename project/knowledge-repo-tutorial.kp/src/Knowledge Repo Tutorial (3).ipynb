{
 "cells": [
  {
   "cell_type": "raw",
   "metadata": {},
   "source": [
    "---\n",
    "title: Knowledge Repo Tutorial\n",
    "authors:\n",
    "- john@bioteam.net\n",
    "tags:\n",
    "- knowledge\n",
    "- repo\n",
    "- tutorial\n",
    "created_at: 2020-06-03\n",
    "updated_at: 2020-06-03\n",
    "tldr: Instructions on Knowledge Repo usage\n",
    "---"
   ]
  },
  {
   "cell_type": "markdown",
   "metadata": {},
   "source": [
    "## Knowledge Repo Tutorial\n",
    "https://knowledge-repo.readthedocs.io/en/latest/quickstart.html\n",
    "\n",
    "1. First, install knowledge repo toolchain using pip:"
   ]
  },
  {
   "cell_type": "code",
   "execution_count": null,
   "metadata": {},
   "outputs": [],
   "source": [
    "!pip install --upgrade \"knowledge-repo[all]\""
   ]
  },
  {
   "cell_type": "markdown",
   "metadata": {},
   "source": [
    "2. Verify that knowledge repo has been installed:"
   ]
  },
  {
   "cell_type": "code",
   "execution_count": null,
   "metadata": {},
   "outputs": [],
   "source": [
    "!knowledge_repo --version"
   ]
  },
  {
   "cell_type": "markdown",
   "metadata": {},
   "source": [
    "3. Next, fork the repository at https://github.com/bioteam/bms-knowledge-repo into your own GitHub account. Clone the repository locally, modifying the username of the GitHub account to your own, in the clone URL:"
   ]
  },
  {
   "cell_type": "code",
   "execution_count": null,
   "metadata": {},
   "outputs": [],
   "source": [
    "!git clone https://github.com/jacquayj/bms-knowledge-repo.git"
   ]
  },
  {
   "cell_type": "markdown",
   "metadata": {},
   "source": [
    "4. Setup environment variable to allow for less verbose commands:"
   ]
  },
  {
   "cell_type": "code",
   "execution_count": null,
   "metadata": {},
   "outputs": [],
   "source": [
    "%env KNOWLEDGE_REPO bms-knowledge-repo"
   ]
  },
  {
   "cell_type": "markdown",
   "metadata": {},
   "source": [
    "5. Now run the command to create the knowledge post:"
   ]
  },
  {
   "cell_type": "code",
   "execution_count": null,
   "metadata": {},
   "outputs": [],
   "source": [
    "!knowledge_repo create ipynb my_example_post3.ipynb"
   ]
  },
  {
   "cell_type": "markdown",
   "metadata": {},
   "source": [
    "6. Save and checkpoint this tutorial notebook `File > Save and Checkpoint`, then open and modify the newly created Jupyter knowledge post in your working directory: `my_example_post.ipynb`\n",
    "\n",
    "7. Return to this tutorial when you're finished"
   ]
  },
  {
   "cell_type": "code",
   "execution_count": null,
   "metadata": {},
   "outputs": [],
   "source": [
    "!knowledge_repo add my_example_post3.ipynb -p project/example2 -m \"test\""
   ]
  },
  {
   "cell_type": "code",
   "execution_count": null,
   "metadata": {},
   "outputs": [],
   "source": [
    "!knowledge_repo submit project/example2"
   ]
  }
 ],
 "metadata": {
  "kernelspec": {
   "display_name": "Python 3",
   "language": "python",
   "name": "python3"
  },
  "language_info": {
   "codemirror_mode": {
    "name": "ipython",
    "version": 3
   },
   "file_extension": ".py",
   "mimetype": "text/x-python",
   "name": "python",
   "nbconvert_exporter": "python",
   "pygments_lexer": "ipython3",
   "version": "3.7.3"
  }
 },
 "nbformat": 4,
 "nbformat_minor": 2
}